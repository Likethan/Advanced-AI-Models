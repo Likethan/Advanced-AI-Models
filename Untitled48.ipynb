{
  "nbformat": 4,
  "nbformat_minor": 0,
  "metadata": {
    "colab": {
      "provenance": []
    },
    "kernelspec": {
      "name": "python3",
      "display_name": "Python 3"
    },
    "language_info": {
      "name": "python"
    }
  },
  "cells": [
    {
      "cell_type": "code",
      "execution_count": null,
      "metadata": {
        "id": "XJX7fFC11pdX"
      },
      "outputs": [],
      "source": [
        "# Step 1: Install and Import Libraries\n",
        "import tensorflow as tf\n",
        "from tensorflow.keras.applications import MobileNetV2\n",
        "from tensorflow.keras.models import Model\n",
        "from tensorflow.keras.layers import Dense, GlobalAveragePooling2D\n",
        "from tensorflow.keras.preprocessing.image import ImageDataGenerator\n",
        "from tensorflow.keras.optimizers import Adam\n",
        "import os\n",
        "\n",
        "# Step 2: Set Parameters\n",
        "IMAGE_SIZE = (224, 224)\n",
        "BATCH_SIZE = 32\n",
        "NUM_CLASSES = 2  # Change based on your dataset\n",
        "EPOCHS = 5\n",
        "\n",
        "# Step 3: Load Data (assumes folder structure with subfolders per class)\n",
        "# Replace with your own dataset path\n",
        "train_dir = '/content/data/train'\n",
        "val_dir = '/content/data/val'\n",
        "\n",
        "train_datagen = ImageDataGenerator(rescale=1./255, horizontal_flip=True)\n",
        "val_datagen = ImageDataGenerator(rescale=1./255)\n",
        "\n",
        "train_data = train_datagen.flow_from_directory(\n",
        "    train_dir, target_size=IMAGE_SIZE, batch_size=BATCH_SIZE, class_mode='categorical')\n",
        "\n",
        "val_data = val_datagen.flow_from_directory(\n",
        "    val_dir, target_size=IMAGE_SIZE, batch_size=BATCH_SIZE, class_mode='categorical')\n",
        "\n",
        "# Step 4: Load Pre-trained Model (exclude top layer)\n",
        "base_model = MobileNetV2(weights='imagenet', include_top=False, input_shape=IMAGE_SIZE + (3,))\n",
        "base_model.trainable = False  # Freeze base model\n",
        "\n",
        "# Step 5: Add Custom Classification Head\n",
        "x = base_model.output\n",
        "x = GlobalAveragePooling2D()(x)\n",
        "x = Dense(128, activation='relu')(x)\n",
        "predictions = Dense(NUM_CLASSES, activation='softmax')(x)\n",
        "model = Model(inputs=base_model.input, outputs=predictions)\n",
        "\n",
        "# Step 6: Compile Model\n",
        "model.compile(optimizer=Adam(learning_rate=0.0001), loss='categorical_crossentropy', metrics=['accuracy'])\n",
        "\n",
        "# Step 7: Train Model\n",
        "model.fit(train_data, epochs=EPOCHS, validation_data=val_data)\n",
        "\n",
        "# Step 8: Fine-tune (Optional)\n",
        "# Unfreeze the last few layers for fine-tuning\n",
        "base_model.trainable = True\n",
        "for layer in base_model.layers[:-20]:\n",
        "    layer.trainable = False\n",
        "\n",
        "model.compile(optimizer=Adam(1e-5), loss='categorical_crossentropy', metrics=['accuracy'])\n",
        "model.fit(train_data, epochs=3, validation_data=val_data)\n",
        "\n",
        "# Step 9: Save Model\n",
        "model.save('transfer_learning_model.h5')\n"
      ]
    },
    {
      "cell_type": "code",
      "source": [
        "/content/data/train/\n",
        "    class1/\n",
        "    class2/\n",
        "/content/data/val/\n",
        "    class1/\n",
        "    class2/\n"
      ],
      "metadata": {
        "id": "hLkTTllH11YH"
      },
      "execution_count": null,
      "outputs": []
    }
  ]
}